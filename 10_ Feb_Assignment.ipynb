{
 "cells": [
  {
   "cell_type": "markdown",
   "metadata": {},
   "source": [
    "Q1. Which function is used to open a file? What are the different modes of opening a file? Explain each mode\n",
    "of file opening"
   ]
  },
  {
   "cell_type": "markdown",
   "metadata": {},
   "source": [
    "open() function is used to open() internally stored files. It returns the contents of the file as python objects.\n",
    "Syntax: open(file_name, mode) \n",
    "\n",
    "Parameters:\n",
    "\n",
    "file_name: This parameter as the name suggests, is the name of the file that we want to open.\n",
    "\n",
    "mode: This parameter is a string that is used to specify the mode in which the file is to be opened. The following strings can be used to activate a specific mode:\n",
    "\n",
    "'r': is used to read(only) the file. It is passed as default if no parameter is supplied and returns an error if no such file exists.\n",
    "\n",
    "'w': is used for writing on/over the file. If the file with the supplied name doesn’t exist, it creates one for you.\n",
    "\n",
    "'a': is used to add(append) content to an existing file. If no such file exists, it creates one for you.\n",
    "\n",
    "'x': is used to create a specific file.\n",
    "\n",
    "'b': is used when the user wants to handle the file in binary mode. This is generally used to handle image \n",
    "files.\n",
    "\n",
    "'t': is used to handle files in text mode. By default, the open() function uses the text mode."
   ]
  },
  {
   "cell_type": "code",
   "execution_count": null,
   "metadata": {},
   "outputs": [],
   "source": []
  },
  {
   "cell_type": "markdown",
   "metadata": {},
   "source": [
    "Q2. Why close() function is used? Why is it important to close a file?"
   ]
  },
  {
   "cell_type": "markdown",
   "metadata": {},
   "source": [
    "Ans2.\n",
    "Python has a close() method to close a file.\n",
    "\n",
    "if file is open, open file is on risk of being unwarrantedly modified or read.\n",
    "it is important to use close function because reduces risk"
   ]
  },
  {
   "cell_type": "code",
   "execution_count": null,
   "metadata": {},
   "outputs": [],
   "source": []
  },
  {
   "cell_type": "markdown",
   "metadata": {},
   "source": [
    "Q3. Write a python program to create a text file. Write ‘I want to become a Data Scientist’ in that file. Then\n",
    "close the file. Open this file and read the content of the file."
   ]
  },
  {
   "cell_type": "code",
   "execution_count": 5,
   "metadata": {},
   "outputs": [
    {
     "name": "stdout",
     "output_type": "stream",
     "text": [
      "I want to become a Data Scientist\n"
     ]
    }
   ],
   "source": [
    "with open('text.txt','w') as file:\n",
    "    file.write('I want to become a Data Scientist')\n",
    "    file.close()\n",
    "\n",
    "with open('text.txt','r') as file:\n",
    "    data=file.read()\n",
    "    print(data)\n",
    "    file.close()\n",
    "\n",
    "    "
   ]
  },
  {
   "cell_type": "code",
   "execution_count": null,
   "metadata": {},
   "outputs": [],
   "source": []
  },
  {
   "cell_type": "markdown",
   "metadata": {},
   "source": [
    "Q4. Explain the following with python code: read(), readline() and readlines()."
   ]
  },
  {
   "cell_type": "code",
   "execution_count": 28,
   "metadata": {},
   "outputs": [
    {
     "name": "stdout",
     "output_type": "stream",
     "text": [
      "read() is used to read the whole content or first few bytes of content from the file at once and return str():\n",
      "<class 'str'>\n",
      "I want to become a Data Scientist \n",
      " we are best friend \n",
      " we are good friend\n",
      "\n",
      "readline() method returns one line from the file and return str():\n",
      "<class 'str'>\n",
      "I want to become a Data Scientist \n",
      "\n",
      "readlines() method each line in the file as a list item and returns a list():\n",
      "<class 'list'>\n",
      "['I want to become a Data Scientist \\n', ' we are best friend \\n', ' we are good friend\\n']\n"
     ]
    }
   ],
   "source": [
    "with open('text.txt','w') as file:\n",
    "    file.write('''I want to become a Data Scientist \\n we are best friend \\n we are good friend\\n''')\n",
    "    file.close()\n",
    "\n",
    "with open('text.txt','r') as file:\n",
    "    print('read() is used to read the whole content or first few bytes of content from the file at once and return str():')\n",
    "    data=file.read()\n",
    "    print(type(data))\n",
    "    print(data)\n",
    "    file.seek(0)\n",
    "\n",
    "    \n",
    "    print('readline() method returns one line from the file and return str():')\n",
    "    data=file.readline()\n",
    "    print(type(data))\n",
    "    print(data)\n",
    "    file.seek(0)\n",
    "\n",
    "    print('readlines() method each line in the file as a list item and returns a list():')\n",
    "    data=file.readlines()\n",
    "    print(type(data))\n",
    "    print(data)\n",
    "\n",
    "    file.close()\n"
   ]
  },
  {
   "cell_type": "code",
   "execution_count": null,
   "metadata": {},
   "outputs": [],
   "source": []
  },
  {
   "cell_type": "markdown",
   "metadata": {},
   "source": [
    "Q5. Explain why with statement is used with open(). What is the advantage of using with statement and\n",
    "open() together?"
   ]
  },
  {
   "cell_type": "markdown",
   "metadata": {},
   "source": [
    "we can perform any operation on the file object inside the context of the with statement. \n",
    "Once all the statements are executed and the execution reaches the end of the with context block, \n",
    "the file is automatically closed by the python interpreter.\n",
    "\n",
    "Advantage:\n",
    "Also, if the program runs into any exception \n",
    "inside the with block, the with open context in python closes the file before terminating the program. \n",
    "In this way the data inside the file remains safe even if the program is terminated abruptly.\n"
   ]
  },
  {
   "cell_type": "code",
   "execution_count": null,
   "metadata": {},
   "outputs": [],
   "source": []
  },
  {
   "cell_type": "markdown",
   "metadata": {},
   "source": [
    "Q6. Explain the write() and writelines() functions. Give a suitable example."
   ]
  },
  {
   "cell_type": "markdown",
   "metadata": {},
   "source": [
    "Ans6.\n",
    "The write() method writes a specified text to the file.\n",
    "\n",
    "The writelines() method writes the items of a list to the file."
   ]
  },
  {
   "cell_type": "code",
   "execution_count": null,
   "metadata": {},
   "outputs": [],
   "source": []
  },
  {
   "cell_type": "code",
   "execution_count": 34,
   "metadata": {},
   "outputs": [
    {
     "name": "stdout",
     "output_type": "stream",
     "text": [
      "Example: of write()\n",
      "See you soon!\n",
      "\n",
      "\n",
      "Example: of writelines()\n",
      "See you soon!Over and out.\n"
     ]
    }
   ],
   "source": [
    "print('Example: of write()')\n",
    "f = open(\"demo.txt\", \"w\")\n",
    "f.write(\"See you soon!\")\n",
    "f.close()\n",
    "\n",
    "#open and read the file after the appending:\n",
    "f = open(\"demo.txt\", \"r\")\n",
    "print(f.read()) \n",
    "\n",
    "print('\\n\\nExample: of writelines()')\n",
    "f = open(\"demo.txt\", \"w\")\n",
    "f.writelines([\"See you soon!\", \"Over and out.\"])\n",
    "f.close()\n",
    "\n",
    "#open and read the file after the appending:\n",
    "f = open(\"demo.txt\", \"r\")\n",
    "print(f.read()) "
   ]
  }
 ],
 "metadata": {
  "kernelspec": {
   "display_name": "Python 3",
   "language": "python",
   "name": "python3"
  },
  "language_info": {
   "codemirror_mode": {
    "name": "ipython",
    "version": 3
   },
   "file_extension": ".py",
   "mimetype": "text/x-python",
   "name": "python",
   "nbconvert_exporter": "python",
   "pygments_lexer": "ipython3",
   "version": "3.6.5"
  }
 },
 "nbformat": 4,
 "nbformat_minor": 2
}
